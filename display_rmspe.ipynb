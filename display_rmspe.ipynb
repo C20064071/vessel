{
 "cells": [
  {
   "cell_type": "code",
   "execution_count": 23,
   "metadata": {},
   "outputs": [],
   "source": [
    "import cv2\n",
    "import math\n",
    "import matplotlib.pyplot as plt\n",
    "import torch\n",
    "import torch.nn.functional as F\n",
    "import torchvision.transforms as transforms\n",
    "from torch.utils.data import Dataset,DataLoader\n",
    "from torch.utils.data.dataset import Subset\n",
    "from sklearn.model_selection import KFold\n",
    "import pandas as pd\n",
    "\n",
    "from PIL import Image\n",
    "import numpy as np\n",
    "# from gradcam.utils import visualize_cam\n",
    "import random\n",
    "\n",
    "def torch_fix_seed(seed=0):\n",
    "    # Python random\n",
    "    random.seed(seed)\n",
    "    # Numpy\n",
    "    np.random.seed(seed)\n",
    "    # Pytorch\n",
    "    torch.manual_seed(seed)\n",
    "    torch.cuda.manual_seed(seed)\n",
    "    torch.backends.cudnn.deterministic = True\n",
    "    torch.use_deterministic_algorithms = True\n",
    "\n",
    "\n",
    "torch_fix_seed()\n",
    "\n",
    "device = torch.device(\"cuda:1\" if torch.cuda.is_available() else \"cpu\")\n",
    "\n",
    "# from vessel_MAE_new import vessel_MAE_new\n",
    "# from vessel_MAE_mask50 import vessel_MAE_new\n",
    "from vessel_models.vessel_MAE_TMD import vessel_MAE"
   ]
  },
  {
   "cell_type": "code",
   "execution_count": 24,
   "metadata": {},
   "outputs": [],
   "source": [
    "data_path=\"/root/work/data/2021\""
   ]
  },
  {
   "cell_type": "code",
   "execution_count": 25,
   "metadata": {},
   "outputs": [],
   "source": [
    "transform = transforms.Resize((48,512))\n",
    "\n",
    "x_data=[]\n",
    "\n",
    "for i in range(1,302):\n",
    "    img=np.load(file=data_path+\"/deck_depth_map/data/hull\"+str(i)+\".npy\")\n",
    "    img=torch.tensor(img).reshape(1,48,521)\n",
    "\n",
    "    img=transform(img)\n",
    "\n",
    "    # img.numpy()\n",
    "    img=np.array(img[0])\n",
    "    x_data.append(img)\n",
    "\n",
    "x_data=np.array(x_data)\n",
    "x_data = np.delete(x_data, range(117, 119), axis=0)\n",
    "x_data=np.flip(x_data,axis=2)\n",
    "x_data=np.array(x_data).reshape(299,1,48,512)\n",
    "x_data=torch.tensor(x_data)\n",
    "\n",
    "X_MAX = x_data.max()\n",
    "x_data /= X_MAX\n",
    "\n",
    "y =np.genfromtxt(data_path + \"/hist_naked.dat\", dtype=float, skip_header=1)\n",
    "y = np.delete(y, range(117, 119), axis=0)\n",
    "\n",
    "y_data=y[:,4:5]"
   ]
  },
  {
   "cell_type": "code",
   "execution_count": 26,
   "metadata": {},
   "outputs": [],
   "source": [
    "class HullDataset(Dataset):\n",
    "    def __init__(self, data, targets):\n",
    "        self.data = data\n",
    "        self.targets = targets\n",
    "        \n",
    "    def __len__(self):\n",
    "        return len(self.targets)\n",
    "    \n",
    "    def __getitem__(self, index):\n",
    "        return self.data[index], self.targets[index]"
   ]
  },
  {
   "cell_type": "code",
   "execution_count": 27,
   "metadata": {},
   "outputs": [
    {
     "name": "stderr",
     "output_type": "stream",
     "text": [
      "/tmp/ipykernel_476752/2251032999.py:3: UserWarning: To copy construct from a tensor, it is recommended to use sourceTensor.clone().detach() or sourceTensor.clone().detach().requires_grad_(True), rather than torch.tensor(sourceTensor).\n",
      "  data=torch.tensor(x_data).float().clone().detach()\n"
     ]
    }
   ],
   "source": [
    "batch_size=60\n",
    "\n",
    "data=torch.tensor(x_data).float().clone().detach()\n",
    "targets=torch.tensor(y_data).float().clone().detach()\n",
    "\n",
    "dataset=HullDataset(data,targets)\n",
    "\n",
    "kfold=KFold(n_splits=5,shuffle=True,random_state=1)\n",
    "\n",
    "train_loaders = []\n",
    "val_loaders = []\n",
    "\n",
    "val_index_all=[]\n",
    "\n",
    "for train_index, val_index in kfold.split(dataset):  \n",
    "    train_dataset = Subset(dataset, train_index)\n",
    "    val_dataset = Subset(dataset, val_index)\n",
    "\n",
    "    train_loader = DataLoader(train_dataset, batch_size=batch_size, shuffle=True)\n",
    "    val_loader = DataLoader(val_dataset, batch_size=batch_size, shuffle=False)\n",
    "\n",
    "    train_loaders.append(train_loader)\n",
    "    val_loaders.append(val_loader)\n",
    "    val_index_all.append(val_index)"
   ]
  },
  {
   "cell_type": "code",
   "execution_count": 28,
   "metadata": {},
   "outputs": [],
   "source": [
    "result_path=\"/root/work/result/RMSPE/TMD/\""
   ]
  },
  {
   "cell_type": "code",
   "execution_count": 29,
   "metadata": {},
   "outputs": [],
   "source": [
    "# plt.rcParams[\"figure.figsize\"] = (16, 2)\n",
    "\n",
    "# df = pd.DataFrame(columns=['Index', 'factor Loss', 'MIM Loss'])\n",
    "rmspe_loss=[]\n",
    "\n",
    "for i in range(5):\n",
    "    loss=0\n",
    "    fold_num = i\n",
    "    val_loader = val_loaders[fold_num]\n",
    "    val_indexs = val_index_all[fold_num]\n",
    "\n",
    "\n",
    "    model=vessel_MAE()\n",
    "    pth_file_path = result_path+\"model\"+str(i)+\".pth\"\n",
    "    model.load_state_dict(torch.load(pth_file_path))\n",
    "    model.to(device)\n",
    "    model.eval()\n",
    "\n",
    "\n",
    "    for inputs_test, labels_test in val_loader:\n",
    "        inputs_test = inputs_test.to(device)\n",
    "        labels_test = labels_test.to(device)\n",
    "        factor_loss, mim_loss, factor = model(inputs_test,labels_test)\n",
    "\n",
    "    for i in range(len(factor)):\n",
    "        loss+=((labels_test[i].item()-factor[i].item())/labels_test[i].item())**2\n",
    "\n",
    "    loss=math.sqrt(loss/len(factor))\n",
    "    rmspe_loss.append(loss)\n",
    "\n",
    "    # print(factor)\n",
    "    # print(labels_test)\n",
    "\n",
    "\n",
    "\n",
    "\n",
    "# df = df.sort_values(by='Index')\n",
    "# df.to_csv(result_path+'loss.csv', index=False)\n"
   ]
  },
  {
   "cell_type": "code",
   "execution_count": 35,
   "metadata": {},
   "outputs": [
    {
     "name": "stdout",
     "output_type": "stream",
     "text": [
      "[0.020206510588713825, 0.01920228016214507, 0.028224977643752223, 0.011046824134444785, 0.01601101772674013]\n",
      "1.8938322051159207\n"
     ]
    }
   ],
   "source": [
    "print(rmspe_loss)\n",
    "print(np.mean(rmspe_loss)*100)"
   ]
  }
 ],
 "metadata": {
  "kernelspec": {
   "display_name": "base",
   "language": "python",
   "name": "python3"
  },
  "language_info": {
   "codemirror_mode": {
    "name": "ipython",
    "version": 3
   },
   "file_extension": ".py",
   "mimetype": "text/x-python",
   "name": "python",
   "nbconvert_exporter": "python",
   "pygments_lexer": "ipython3",
   "version": "3.10.8"
  }
 },
 "nbformat": 4,
 "nbformat_minor": 2
}
