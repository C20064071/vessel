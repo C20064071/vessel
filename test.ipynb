{
 "cells": [
  {
   "cell_type": "code",
   "execution_count": 1,
   "metadata": {},
   "outputs": [
    {
     "name": "stdout",
     "output_type": "stream",
     "text": [
      "cuda:0\n"
     ]
    }
   ],
   "source": [
    "import numpy as np\n",
    "import torch\n",
    "import torch.nn as nn\n",
    "import torchvision.transforms as transforms\n",
    "from torch.utils.data import Dataset, DataLoader, random_split\n",
    "import matplotlib.pyplot as plt\n",
    "import random\n",
    "\n",
    "#シード値の固定\n",
    "def torch_fix_seed(seed=42):\n",
    "    # Python random\n",
    "    random.seed(seed)\n",
    "    # Numpy\n",
    "    np.random.seed(seed)\n",
    "    # Pytorch\n",
    "    torch.manual_seed(seed)\n",
    "    torch.cuda.manual_seed(seed)\n",
    "    torch.backends.cudnn.deterministic = True\n",
    "    torch.use_deterministic_algorithms = True\n",
    "\n",
    "torch_fix_seed()\n",
    "\n",
    "device = torch.device(\"cuda:0\" if torch.cuda.is_available() else \"cpu\")\n",
    "print(device)"
   ]
  },
  {
   "cell_type": "code",
   "execution_count": 2,
   "metadata": {},
   "outputs": [],
   "source": [
    "from vessel_MAE_new import vessel_MAE_new"
   ]
  },
  {
   "cell_type": "code",
   "execution_count": 3,
   "metadata": {},
   "outputs": [],
   "source": [
    "net = vessel_MAE_new()"
   ]
  },
  {
   "cell_type": "code",
   "execution_count": 14,
   "metadata": {},
   "outputs": [
    {
     "name": "stdout",
     "output_type": "stream",
     "text": [
      "(tensor(3.3001, grad_fn=<MeanBackward0>), tensor(1.7366, grad_fn=<DivBackward0>))\n"
     ]
    }
   ],
   "source": [
    "input=torch.randn(16,1,48,512)\n",
    "label=torch.randn(16,1)\n",
    "output=net(input,label)\n",
    "print(output)"
   ]
  },
  {
   "cell_type": "code",
   "execution_count": 2,
   "metadata": {},
   "outputs": [],
   "source": [
    "data_path = \"/root/work/data/2021\"\n",
    "result_path = \"/root/work/result/MAE/mim_loss\""
   ]
  },
  {
   "cell_type": "code",
   "execution_count": 3,
   "metadata": {},
   "outputs": [],
   "source": [
    "transform = transforms.Resize((48,512))\n",
    "\n",
    "x_data=[]\n",
    "\n",
    "for i in range(1,302):\n",
    "    img=np.load(file=data_path+\"/deck_depth_map/data/hull\"+str(i)+\".npy\")\n",
    "    img=torch.tensor(img).reshape(1,48,521)\n",
    "    img=transform(img)\n",
    "    img=np.array(img[0])\n",
    "    x_data.append(img)\n",
    "\n",
    "x_data=np.array(x_data)\n",
    "x_data = np.delete(x_data, range(117, 119), axis=0)\n",
    "x_data=np.flip(x_data,axis=2)\n",
    "x_data=np.array(x_data).reshape(299,1,48,512)\n",
    "x_data=torch.tensor(x_data)\n",
    "\n",
    "X_MAX = x_data.max()\n",
    "x_data /= X_MAX\n",
    "\n",
    "y = np.genfromtxt(data_path + \"/hist_naked.dat\", dtype=float, skip_header=1)\n",
    "y = np.delete(y, range(117, 119), axis=0)\n",
    "y_data=y[:,4:5]"
   ]
  },
  {
   "cell_type": "code",
   "execution_count": 7,
   "metadata": {},
   "outputs": [
    {
     "data": {
      "text/plain": [
       "torch.Size([48, 512])"
      ]
     },
     "execution_count": 7,
     "metadata": {},
     "output_type": "execute_result"
    }
   ],
   "source": [
    "x_data[0][0].shape"
   ]
  },
  {
   "cell_type": "code",
   "execution_count": 9,
   "metadata": {},
   "outputs": [
    {
     "data": {
      "image/png": "[encoded data removed]",
      "text/plain": [
       "<Figure size 640x480 with 1 Axes>"
      ]
     },
     "metadata": {},
     "output_type": "display_data"
    }
   ],
   "source": [
    "plt.imshow(x_data[0][0])\n",
    "plt.show()"
   ]
  },
  {
   "cell_type": "code",
   "execution_count": 6,
   "metadata": {},
   "outputs": [],
   "source": [
    "class HullDataset(Dataset):\n",
    "    def __init__(self, data, targets):\n",
    "        self.data = data\n",
    "        self.targets = targets\n",
    "        \n",
    "    def __len__(self):\n",
    "        return len(self.targets)\n",
    "    \n",
    "    def __getitem__(self, index):\n",
    "        return self.data[index], self.targets[index]"
   ]
  },
  {
   "cell_type": "code",
   "execution_count": 7,
   "metadata": {},
   "outputs": [
    {
     "name": "stderr",
     "output_type": "stream",
     "text": [
      "/tmp/ipykernel_468841/3041624954.py:10: UserWarning: To copy construct from a tensor, it is recommended to use sourceTensor.clone().detach() or sourceTensor.clone().detach().requires_grad_(True), rather than torch.tensor(sourceTensor).\n",
      "  data=torch.tensor(x_data).float().clone().detach()\n"
     ]
    }
   ],
   "source": [
    "import torch\n",
    "import numpy as np\n",
    "from torch.utils.data import Dataset,DataLoader\n",
    "from torch.utils.data.dataset import Subset\n",
    "from sklearn.model_selection import KFold\n",
    "\n",
    "\n",
    "batch_size=16\n",
    "\n",
    "data=torch.tensor(x_data).float().clone().detach()\n",
    "targets=torch.tensor(y_data).float().clone().detach()\n",
    "\n",
    "dataset=HullDataset(data,targets)\n",
    "\n",
    "kfold=KFold(n_splits=5,shuffle=True,random_state=0)\n",
    "\n",
    "train_loaders=[]\n",
    "val_loaders=[]\n",
    "\n",
    "for train_index,val_index in kfold.split(dataset):\n",
    "    train_dataset=Subset(dataset,train_index)\n",
    "    val_dataset=Subset(dataset,val_index)\n",
    "\n",
    "    train_loader=DataLoader(train_dataset,batch_size=batch_size,shuffle=True)\n",
    "    val_loader=DataLoader(val_dataset,batch_size=batch_size,shuffle=False)\n",
    "\n",
    "    train_loaders.append(train_loader)\n",
    "    val_loaders.append(val_loader)"
   ]
  },
  {
   "cell_type": "code",
   "execution_count": 8,
   "metadata": {},
   "outputs": [
    {
     "data": {
      "text/plain": [
       "<All keys matched successfully>"
      ]
     },
     "execution_count": 8,
     "metadata": {},
     "output_type": "execute_result"
    }
   ],
   "source": [
    "from vessel_MAE_decls import vessel_MAE_decls\n",
    "import torch\n",
    "\n",
    "net = vessel_MAE_decls()\n",
    "\n",
    "weight_file = '/root/work/result/MAE/decls_sche/model0.pth'\n",
    "weights = torch.load(weight_file)\n",
    "net.load_state_dict(weights)"
   ]
  },
  {
   "cell_type": "code",
   "execution_count": 9,
   "metadata": {},
   "outputs": [],
   "source": [
    "import torch\n",
    "import torch.nn as nn\n",
    "\n",
    "class NewModel(nn.Module):\n",
    "    def __init__(self, patch_embed, decoder_blocks, fom_mlp):\n",
    "        super(NewModel, self).__init__()\n",
    "        self.patch_embed = patch_embed\n",
    "        self.decoder_blocks = decoder_blocks\n",
    "        self.decoder_pos_embed = nn.Parameter(torch.zeros(1, 48 + 1, 512))\n",
    "        self.fom_mlp = fom_mlp\n",
    "\n",
    "    def forward(self, x):\n",
    "        # モデルの処理を定義する\n",
    "        x = self.patch_embed(x)\n",
    "        x = torch.cat([x[:, :1, :], x], dim=1) \n",
    "        x = x + self.decoder_pos_embed\n",
    "\n",
    "        for block in self.decoder_blocks:\n",
    "            x = block(x)\n",
    "        x = x[:, 0, :]\n",
    "        x = x.squeeze(1)\n",
    "        x = self.fom_mlp(x)\n",
    "        return x\n",
    "\n",
    "# 新たなモデルのインスタンスを作成\n",
    "new_model = NewModel(net.patch_embed, net.decoder_blocks, net.fom_mlp)\n",
    "\n"
   ]
  },
  {
   "cell_type": "code",
   "execution_count": 10,
   "metadata": {},
   "outputs": [],
   "source": [
    "train_loader = train_loaders[0]\n",
    "val_loader = val_loaders[0]"
   ]
  },
  {
   "cell_type": "code",
   "execution_count": 11,
   "metadata": {},
   "outputs": [
    {
     "ename": "NameError",
     "evalue": "name 'loss' is not defined",
     "output_type": "error",
     "traceback": [
      "\u001b[0;31m---------------------------------------------------------------------------\u001b[0m",
      "\u001b[0;31mNameError\u001b[0m                                 Traceback (most recent call last)",
      "Cell \u001b[0;32mIn[11], line 3\u001b[0m\n\u001b[1;32m      1\u001b[0m \u001b[38;5;28;01mfor\u001b[39;00m inputs, targets \u001b[38;5;129;01min\u001b[39;00m train_loader:\n\u001b[1;32m      2\u001b[0m     pred\u001b[38;5;241m=\u001b[39mnew_model(inputs)\n\u001b[0;32m----> 3\u001b[0m     loss_train \u001b[38;5;241m=\u001b[39m \u001b[43mloss\u001b[49m(pred, targets)\n\u001b[1;32m      4\u001b[0m     \u001b[38;5;28mprint\u001b[39m(loss_train\u001b[38;5;241m.\u001b[39mitem())\n",
      "\u001b[0;31mNameError\u001b[0m: name 'loss' is not defined"
     ]
    }
   ],
   "source": [
    "for inputs, targets in train_loader:\n",
    "    pred=new_model(inputs)\n",
    "    loss_train = loss(pred, targets)\n",
    "    print(loss_train.item())"
   ]
  },
  {
   "cell_type": "code",
   "execution_count": null,
   "metadata": {},
   "outputs": [
    {
     "name": "stdout",
     "output_type": "stream",
     "text": [
      "734.1527099609375\n",
      "793.0654907226562\n",
      "875.1021728515625\n",
      "869.3875122070312\n"
     ]
    }
   ],
   "source": [
    "new_model.eval()\n",
    "loss = nn.MSELoss()\n",
    "\n",
    "for inputs, targets in val_loader:\n",
    "    pred=new_model(inputs)\n",
    "    loss_val = loss(pred, targets)\n",
    "    print(loss_val.item())\n",
    "\n"
   ]
  },
  {
   "cell_type": "code",
   "execution_count": null,
   "metadata": {},
   "outputs": [],
   "source": []
  }
 ],
 "metadata": {
  "kernelspec": {
   "display_name": "base",
   "language": "python",
   "name": "python3"
  },
  "language_info": {
   "codemirror_mode": {
    "name": "ipython",
    "version": 3
   },
   "file_extension": ".py",
   "mimetype": "text/x-python",
   "name": "python",
   "nbconvert_exporter": "python",
   "pygments_lexer": "ipython3",
   "version": "3.10.8"
  }
 },
 "nbformat": 4,
 "nbformat_minor": 2
}
